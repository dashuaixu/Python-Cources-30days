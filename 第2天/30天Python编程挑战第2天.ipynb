{
 "cells": [
  {
   "cell_type": "markdown",
   "metadata": {},
   "source": [
    "# 30天Python编程挑战 -- 第2天"
   ]
  },
  {
   "cell_type": "markdown",
   "metadata": {},
   "source": [
    "项目本意是为了家人和身边的朋友快速了解Python编程。请勿随意转载/发布。\n",
    "\n",
    "可添加微信：xumaimeng，备注：挑战python，获取帮助。\n",
    "\n",
    "> 本项目翻译自[Asabeneh/30-Days-Of-Python](https://github.com/Asabeneh/30-Days-Of-Python)，并稍作修改，如有需要请参考原项目并支持原作者。"
   ]
  },
  {
   "cell_type": "markdown",
   "metadata": {},
   "source": [
    "恭喜进入第二天的挑战，我们已经学会了使用Python Shell和PyCharm，今天开始，大部分的代码需要自己输入并验证。"
   ]
  },
  {
   "cell_type": "markdown",
   "metadata": {},
   "source": [
    "## 内建函数"
   ]
  },
  {
   "cell_type": "markdown",
   "metadata": {},
   "source": [
    "Python在设计之初，内建了很多全局函数，这些函数可以随时拿来使用。比较常用的内建函数有：*print()*, *len()*, *type()*, *int()*, *float()*, *str()*, *input()*, *list()*, *dict()*, *min()*, *max()*, *sum()*, *sorted()*, *open()*, *file()*, *help()*, *dir()*，下表列出了全部的内建函数，在[Python官方文档](https://docs.python.org/2/library/functions.html)中可查看详细信息。\n",
    "\n",
    "![](./images/builtin-functions.png)"
   ]
  },
  {
   "cell_type": "markdown",
   "metadata": {},
   "source": [
    "我们打开Python Shell尝试使用常见的内建函数：\n",
    "\n",
    "![](./images/function_test.png)"
   ]
  },
  {
   "cell_type": "markdown",
   "metadata": {},
   "source": [
    "继续练习一些其他函数："
   ]
  },
  {
   "cell_type": "code",
   "execution_count": 2,
   "metadata": {},
   "outputs": [
    {
     "name": "stdout",
     "output_type": "stream",
     "text": [
      "\n",
      "Here is a list of the Python keywords.  Enter any keyword to get more help.\n",
      "\n",
      "False               class               from                or\n",
      "None                continue            global              pass\n",
      "True                def                 if                  raise\n",
      "and                 del                 import              return\n",
      "as                  elif                in                  try\n",
      "assert              else                is                  while\n",
      "async               except              lambda              with\n",
      "await               finally             nonlocal            yield\n",
      "break               for                 not                 \n",
      "\n"
     ]
    }
   ],
   "source": [
    "help('keywords')    # 打印出所有内置关键字"
   ]
  },
  {
   "cell_type": "code",
   "execution_count": 4,
   "metadata": {},
   "outputs": [],
   "source": [
    "# help(str)     # 获取关键字的帮助信息"
   ]
  },
  {
   "cell_type": "code",
   "execution_count": 6,
   "metadata": {},
   "outputs": [
    {
     "data": {
      "text/plain": [
       "['__add__',\n",
       " '__class__',\n",
       " '__contains__',\n",
       " '__delattr__',\n",
       " '__dir__',\n",
       " '__doc__',\n",
       " '__eq__',\n",
       " '__format__',\n",
       " '__ge__',\n",
       " '__getattribute__',\n",
       " '__getitem__',\n",
       " '__getnewargs__',\n",
       " '__gt__',\n",
       " '__hash__',\n",
       " '__init__',\n",
       " '__init_subclass__',\n",
       " '__iter__',\n",
       " '__le__',\n",
       " '__len__',\n",
       " '__lt__',\n",
       " '__mod__',\n",
       " '__mul__',\n",
       " '__ne__',\n",
       " '__new__',\n",
       " '__reduce__',\n",
       " '__reduce_ex__',\n",
       " '__repr__',\n",
       " '__rmod__',\n",
       " '__rmul__',\n",
       " '__setattr__',\n",
       " '__sizeof__',\n",
       " '__str__',\n",
       " '__subclasshook__',\n",
       " 'capitalize',\n",
       " 'casefold',\n",
       " 'center',\n",
       " 'count',\n",
       " 'encode',\n",
       " 'endswith',\n",
       " 'expandtabs',\n",
       " 'find',\n",
       " 'format',\n",
       " 'format_map',\n",
       " 'index',\n",
       " 'isalnum',\n",
       " 'isalpha',\n",
       " 'isascii',\n",
       " 'isdecimal',\n",
       " 'isdigit',\n",
       " 'isidentifier',\n",
       " 'islower',\n",
       " 'isnumeric',\n",
       " 'isprintable',\n",
       " 'isspace',\n",
       " 'istitle',\n",
       " 'isupper',\n",
       " 'join',\n",
       " 'ljust',\n",
       " 'lower',\n",
       " 'lstrip',\n",
       " 'maketrans',\n",
       " 'partition',\n",
       " 'replace',\n",
       " 'rfind',\n",
       " 'rindex',\n",
       " 'rjust',\n",
       " 'rpartition',\n",
       " 'rsplit',\n",
       " 'rstrip',\n",
       " 'split',\n",
       " 'splitlines',\n",
       " 'startswith',\n",
       " 'strip',\n",
       " 'swapcase',\n",
       " 'title',\n",
       " 'translate',\n",
       " 'upper',\n",
       " 'zfill']"
      ]
     },
     "execution_count": 6,
     "metadata": {},
     "output_type": "execute_result"
    }
   ],
   "source": [
    "dir(str)    # 打印str类型数据的方法和属性"
   ]
  },
  {
   "cell_type": "markdown",
   "metadata": {},
   "source": [
    "上面的练习中提及到**python关键字（保留字）**以及打印帮助信息。\n",
    "\n",
    "关键字是Python语言在设计时预留的保留字，在代码编写时，使用的变量名字不能和关键字冲突，否则会引发错误。\n",
    "\n",
    "再测试一些内置函数，接着学习其他内容。（以下内容在python shell中测试）"
   ]
  },
  {
   "cell_type": "code",
   "execution_count": 13,
   "metadata": {},
   "outputs": [
    {
     "data": {
      "text/plain": [
       "20"
      ]
     },
     "execution_count": 13,
     "metadata": {},
     "output_type": "execute_result"
    }
   ],
   "source": [
    "min(20, 30, 40, 50)    # 获取集合中最小的元素"
   ]
  },
  {
   "cell_type": "code",
   "execution_count": 14,
   "metadata": {},
   "outputs": [
    {
     "data": {
      "text/plain": [
       "50"
      ]
     },
     "execution_count": 14,
     "metadata": {},
     "output_type": "execute_result"
    }
   ],
   "source": [
    "max(20, 30, 40, 50)    # 获取集合中最大的元素"
   ]
  },
  {
   "cell_type": "code",
   "execution_count": 15,
   "metadata": {},
   "outputs": [
    {
     "data": {
      "text/plain": [
       "20"
      ]
     },
     "execution_count": 15,
     "metadata": {},
     "output_type": "execute_result"
    }
   ],
   "source": [
    "min([20, 30, 40, 50])    # min函数的参数可以是一个列表"
   ]
  },
  {
   "cell_type": "code",
   "execution_count": 16,
   "metadata": {},
   "outputs": [
    {
     "data": {
      "text/plain": [
       "50"
      ]
     },
     "execution_count": 16,
     "metadata": {},
     "output_type": "execute_result"
    }
   ],
   "source": [
    "max([20, 30, 40, 50])    # max函数的参数同样也可以是列表"
   ]
  },
  {
   "cell_type": "code",
   "execution_count": 17,
   "metadata": {},
   "outputs": [
    {
     "data": {
      "text/plain": [
       "140"
      ]
     },
     "execution_count": 17,
     "metadata": {},
     "output_type": "execute_result"
    }
   ],
   "source": [
    "sum([20, 30, 40, 50])    # sum为求和函数"
   ]
  },
  {
   "cell_type": "markdown",
   "metadata": {},
   "source": [
    "## 变量"
   ]
  },
  {
   "cell_type": "markdown",
   "metadata": {},
   "source": [
    "变量存储在计算机的内存中，每个变量都对应一个存储地址。可以简单地理解为，我们需要在计算机内存中临时存储一个数据，这个数据分为‘数据名’和‘数据值’，变量名称就是‘数据名’，可以是单独一个字母（如：x，y，z），但是更推荐使用有一定含义的变量名，方便理解。"
   ]
  },
  {
   "cell_type": "markdown",
   "metadata": {},
   "source": [
    "Python变量命名规则：\n",
    "\n",
    "- 必须以字母或者下划线开头，不能是数字或者其他字符\n",
    "- 变量名只能是字母数字，下划线\n",
    "- 变量名区分大小写（Name和name是不同的变量名）\n",
    "\n",
    "正确变量名：\n",
    "\n",
    "```python\n",
    "firstname\n",
    "lastname\n",
    "age\n",
    "country\n",
    "city\n",
    "first_name\n",
    "last_name\n",
    "capital_city\n",
    "_if \n",
    "year_2019\n",
    "year2019\n",
    "current_year_2019\n",
    "num1\n",
    "num2\n",
    "```"
   ]
  },
  {
   "cell_type": "markdown",
   "metadata": {},
   "source": [
    "错误变量名：\n",
    "\n",
    "```python\n",
    "first-name\n",
    "num-1\n",
    "1num\n",
    "```"
   ]
  },
  {
   "cell_type": "markdown",
   "metadata": {},
   "source": [
    "当变量名太长，为了方便阅读和理解，建议在变量名的每个单词间用下划线分割（例如：first_name）。我们创建一个变量并且给予一个值，这个过程叫做变量声明（如：`first_name = '小明'`），这里的等于号（=）是一个赋值符号。\n",
    "\n",
    "例子：变量声明\n",
    "\n",
    "```python\n",
    "first_name = 'Asabeneh'\n",
    "last_name = 'Yetayeh'\n",
    "country = 'Finland'\n",
    "city = 'Helsinki'\n",
    "age = 250\n",
    "is_married = True\n",
    "skills = ['HTML', 'CSS', 'JS', 'React', 'Python']\n",
    "person_info = {\n",
    "   'firstname':'Asabeneh',\n",
    "   'lastname':'Yetayeh',\n",
    "   'country':'Finland',\n",
    "   'city':'Helsinki'\n",
    "   }\n",
    "```"
   ]
  },
  {
   "cell_type": "markdown",
   "metadata": {},
   "source": [
    "我们再来看看关于`print()`和`len()`两个函数的使用。`print()`函数可以放入多个参数，然后将它们打印到屏幕上，所谓参数就是放入函数中参与运算的值，就像不同的食材放入锅内会产生不同的佳肴，不同的参数放入同一个函数也会出现不同的结果。\n",
    "\n",
    "例如："
   ]
  },
  {
   "cell_type": "code",
   "execution_count": 19,
   "metadata": {},
   "outputs": [
    {
     "name": "stdout",
     "output_type": "stream",
     "text": [
      "hello world!\n"
     ]
    }
   ],
   "source": [
    "print('hello world!')    # 打印字符 hello world！"
   ]
  },
  {
   "cell_type": "code",
   "execution_count": 20,
   "metadata": {},
   "outputs": [
    {
     "name": "stdout",
     "output_type": "stream",
     "text": [
      "hello , world !\n"
     ]
    }
   ],
   "source": [
    "print('hello', ',', 'world', '!')    # 还是打印 hello world！但是这次被拆分成了不同的参数传给了print函数，参数间逗号隔开"
   ]
  },
  {
   "cell_type": "code",
   "execution_count": 21,
   "metadata": {},
   "outputs": [
    {
     "name": "stdout",
     "output_type": "stream",
     "text": [
      "12\n"
     ]
    }
   ],
   "source": [
    "print(len('hello world!'))    # 这里做了函数的嵌套，先运行里面的函数，再运行外面的函数"
   ]
  },
  {
   "cell_type": "markdown",
   "metadata": {},
   "source": [
    "可以打开Python Shell来验证一下上面的结果\n",
    "\n",
    "![](./images/print_len_function.png)"
   ]
  },
  {
   "cell_type": "markdown",
   "metadata": {},
   "source": [
    "把我们上面学习的变量声明也都输入到Python Shell中\n",
    "\n",
    "![](./images/variable.png)"
   ]
  },
  {
   "cell_type": "markdown",
   "metadata": {},
   "source": [
    "不要退出Python Shell，接着尝试用print函数打印这些变量，这里要记得，print函数是可以给多个参数的，也可以把变量给它，它就会把变量对应值打印在屏幕上。"
   ]
  },
  {
   "cell_type": "markdown",
   "metadata": {},
   "source": [
    "Python还可以一行代码声明多个变量：\n",
    "\n",
    "下面代码可以使用Python Shell自己试一下\n",
    "\n",
    "```python\n",
    "first_name, last_name, country, age, is_married = 'Asabeneh', 'Yetayeh', 'Helsink', 250, True\n",
    "\n",
    "print(first_name, last_name, country, age, is_married)\n",
    "print('First name:', first_name)\n",
    "print('Last name: ', last_name)\n",
    "print('Country: ', country)\n",
    "print('Age: ', age)\n",
    "print('Married: ', is_married)\n",
    "```"
   ]
  },
  {
   "cell_type": "markdown",
   "metadata": {},
   "source": [
    "我们还可以使用内置的`input()`函数来将用户输入的内容作为变量的值：\n",
    "\n",
    "这段代码中定义了两个变量：`first_name,age`，这两个变量的值是在代码运行以后输入进去的。\n",
    "\n",
    "```python\n",
    "first_name = input('What is your name: ')\n",
    "age = input('How old are you? ')\n",
    "\n",
    "print(first_name)\n",
    "print(age)\n",
    "```"
   ]
  },
  {
   "cell_type": "markdown",
   "metadata": {},
   "source": [
    "## 数据类型"
   ]
  },
  {
   "cell_type": "markdown",
   "metadata": {},
   "source": [
    "数据类型来重新介绍一遍，Python中数据类型需要熟练掌握，编程中接触最多的就是各种数据类型。\n",
    "\n",
    "- 使用内置函数`type()`检查数据类型。\n",
    "\n",
    "  ```python\n",
    "  first_name = 'Asabeneh'     # str\n",
    "  last_name = 'Yetayeh'       # str\n",
    "  country = 'Finland'         # str\n",
    "  city= 'Helsinki'            # str\n",
    "  age = 250                   # int, it is not my real age, don't worry about it\n",
    "  \n",
    "  # Printing out types\n",
    "  print(type('Asabeneh'))     # str\n",
    "  print(type(first_name))     # str\n",
    "  print(type(10))             # int\n",
    "  print(type(3.14))           # float\n",
    "  print(type(1 + 1j))         # complex\n",
    "  print(type(True))           # bool\n",
    "  print(type([1, 2,3,4]))     # list\n",
    "  print(type({'name':'Asabeneh','age':250, 'is_married':250}))    # dict\n",
    "  print(type((1,2)))                                              # tuple\n",
    "  print(type(zip([1,2],[3,4])))                                   # set\n",
    "  ```"
   ]
  },
  {
   "cell_type": "code",
   "execution_count": 22,
   "metadata": {},
   "outputs": [],
   "source": [
    "first_name = 'Asabeneh'     # str\n",
    "last_name = 'Yetayeh'       # str\n",
    "country = 'Finland'         # str\n",
    "city= 'Helsinki'            # str\n",
    "age = 250                   # int, it is not my real age, don't worry about it"
   ]
  },
  {
   "cell_type": "code",
   "execution_count": 23,
   "metadata": {},
   "outputs": [
    {
     "name": "stdout",
     "output_type": "stream",
     "text": [
      "<class 'str'>\n",
      "<class 'str'>\n",
      "<class 'int'>\n",
      "<class 'float'>\n",
      "<class 'complex'>\n",
      "<class 'bool'>\n",
      "<class 'list'>\n",
      "<class 'dict'>\n",
      "<class 'tuple'>\n",
      "<class 'zip'>\n"
     ]
    }
   ],
   "source": [
    "# Printing out types\n",
    "print(type('Asabeneh'))     # str\n",
    "print(type(first_name))     # str\n",
    "print(type(10))             # int\n",
    "print(type(3.14))           # float\n",
    "print(type(1 + 1j))         # complex\n",
    "print(type(True))           # bool\n",
    "print(type([1, 2,3,4]))     # list\n",
    "print(type({'name':'Asabeneh','age':250, 'is_married':250}))    # dict\n",
    "print(type((1,2)))                                              # tuple\n",
    "print(type(zip([1,2],[3,4])))                                   # set"
   ]
  },
  {
   "cell_type": "markdown",
   "metadata": {},
   "source": [
    "- 类型转换：学会Pthon中数据类型之间的转换，例如：字符类型转换成整数类型。Python为数据类型转换内置了函数，我们要合理利用这些函数，比如：如果有一个字符串为`'123'`，字符串里面是纯数字，就可以使用`int()`或者`float()`转换成数值型数据，但如果字符串是`'小明'`，要是想转换成数值型，就会出现错误。\n",
    "\n",
    "    下面我们来练习一下：\n",
    "    \n",
    "    ```python\n",
    "  num_int = 10\n",
    "  print('num_int',num_int)         # 10\n",
    "  num_float = float(num_int)\n",
    "  print('num_float:', num_float)   # 10.0\n",
    "  \n",
    "  # float to int\n",
    "  \n",
    "  gravity = 9.81\n",
    "  print(int(gravity))             # 9\n",
    "  \n",
    "  # int to str\n",
    "  num_int = 10\n",
    "  print(num_int)                  # 10\n",
    "  num_str = str(num_int)\n",
    "  print(num_str)                  # '10'\n",
    "  \n",
    "  # str to int\n",
    "  num_str = '10.6'\n",
    "  print('num_int', int(num_str))      # 10\n",
    "  print('num_float', float(num_str))  # 10.6\n",
    "  \n",
    "  # str to list\n",
    "  first_name = 'Asabeneh'\n",
    "  print(first_name)\n",
    "  print(first_name)                    # 'Asabeneh'\n",
    "  first_name_to_list = list(first_name)\n",
    "  print(first_name_to_list)            # ['A', 's', 'a', 'b', 'e', 'n', 'e', 'h']\n",
    "  ```"
   ]
  },
  {
   "cell_type": "markdown",
   "metadata": {},
   "source": [
    "## 数字类型"
   ]
  },
  {
   "cell_type": "markdown",
   "metadata": {},
   "source": [
    "Python中的数值型数据：\n",
    "\n",
    "1. 整型Integers：... -3, -2, -1, 0, 1, 2, 3 ...\n",
    "2. 浮点型Floating：... -3.5, -2.25, -1.0, 0.0, 1.1, 2.2, 3.5 ...\n",
    "3. 复数Complex：1 + j, 2 + 4j, 1 - 1j\n",
    "\n",
    "\n",
    "\n",
    "恭喜完成今天的学习内容，可能还有些东西搞不太懂，但是没关系，坚持下去。\n",
    "\n",
    "下面是一些必要的练习题。"
   ]
  },
  {
   "cell_type": "markdown",
   "metadata": {},
   "source": [
    "## 练习题"
   ]
  },
  {
   "cell_type": "markdown",
   "metadata": {},
   "source": [
    "### Level 1"
   ]
  },
  {
   "cell_type": "markdown",
   "metadata": {},
   "source": [
    "1. 在`30DaysOfPython`文件夹中建立一个文件夹`day_2\t`。在这个文件夹中创建一个文件`variables.py`\n",
    "2. 编写一段Python的注释：'Day 2: 30 Days of python programming'\n",
    "3. 创建一个first_name变量并且赋值\n",
    "4. 创建一个last_name变量并缺赋值\n",
    "5. 创建一个表示国家名称的变量并赋值\n",
    "6. 创建一个表示日期的变量并赋值\n",
    "7. 创建一个值为True的变量\n",
    "8. 尝试用一行代码声明多个变量"
   ]
  },
  {
   "cell_type": "markdown",
   "metadata": {},
   "source": [
    "### Level 2"
   ]
  },
  {
   "cell_type": "markdown",
   "metadata": {},
   "source": [
    "1. 检查level1中创建的变量的类型\n",
    "2. 使用len()函数查看first_name变量的长度\n",
    "3. 创建一个num_one变量，赋值5；创建一个num_two变量，赋值4\n",
    "   1. 将变量num_one和num_two的值相加，它们的和赋值给一个新的变量_total\n",
    "   2. 按照上面的规则继续进行减法、乘法、除法的计算，得到的值分别赋值给_diff、\\_product、\\_division、\\_remainder\n",
    "4. 已知圆的半径为5厘米：\n",
    "   1. 计算圆的面积，将值赋给变量\\_area_of_circle\n",
    "5. 使用内置函数`input()`来得到first_name、last_name、country和age这几个变量的值，完成变量的声明\n",
    "6. 在Python Shell或者编辑器中运行`help('keywords')`来查看Python有哪些保留字"
   ]
  }
 ],
 "metadata": {
  "kernelspec": {
   "display_name": "courses",
   "language": "python",
   "name": "courses"
  },
  "language_info": {
   "codemirror_mode": {
    "name": "ipython",
    "version": 3
   },
   "file_extension": ".py",
   "mimetype": "text/x-python",
   "name": "python",
   "nbconvert_exporter": "python",
   "pygments_lexer": "ipython3",
   "version": "3.8.8"
  }
 },
 "nbformat": 4,
 "nbformat_minor": 4
}
