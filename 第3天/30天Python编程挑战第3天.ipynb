{
 "cells": [
  {
   "cell_type": "markdown",
   "metadata": {},
   "source": [
    "# 30天Python编程挑战 -- 第3天"
   ]
  },
  {
   "cell_type": "markdown",
   "metadata": {},
   "source": [
    "项目本意是为了家人和身边的朋友快速了解Python编程。请勿随意转载/发布\n",
    "\n",
    "可添加微信：xumaimeng，备注：挑战python，获取帮助。\n",
    "\n",
    "> 本项目翻译自[Asabeneh/30-Days-Of-Python](https://github.com/Asabeneh/30-Days-Of-Python)，并稍作修改，如有需要请参考原项目并支持原作者。"
   ]
  },
  {
   "cell_type": "markdown",
   "metadata": {},
   "source": [
    "## 布尔值"
   ]
  },
  {
   "cell_type": "markdown",
   "metadata": {},
   "source": [
    "布尔数据类型只有两个值：**True**和**False**。当我们在使用比较运算符的时候，返回的结果就是一个布尔值。"
   ]
  },
  {
   "cell_type": "code",
   "execution_count": 1,
   "metadata": {},
   "outputs": [
    {
     "name": "stdout",
     "output_type": "stream",
     "text": [
      "True\n"
     ]
    }
   ],
   "source": [
    "print(True)"
   ]
  },
  {
   "cell_type": "code",
   "execution_count": 2,
   "metadata": {},
   "outputs": [
    {
     "name": "stdout",
     "output_type": "stream",
     "text": [
      "False\n"
     ]
    }
   ],
   "source": [
    "print(False)"
   ]
  },
  {
   "cell_type": "markdown",
   "metadata": {},
   "source": [
    "## 运算符"
   ]
  },
  {
   "cell_type": "markdown",
   "metadata": {},
   "source": [
    "Python支持很多类型的运算符，我们先来学习其中几个。"
   ]
  },
  {
   "cell_type": "markdown",
   "metadata": {},
   "source": [
    "### 赋值运算符"
   ]
  },
  {
   "cell_type": "markdown",
   "metadata": {},
   "source": [
    "赋值运算符顾名思义是对变量进行赋值。我们以`=`为例，数学中的等号代表两个数值相等，在Python中，等号意味着将值赋给一个变量，我们称为赋值或是给变量赋值。下面来看一下有哪些赋值运算符：\n",
    "\n",
    "| 运算符 | 写法一  | 写法二     |\n",
    "| ------ | ------- | ---------- |\n",
    "| =      | x = 5   | x = 5      |\n",
    "| +=     | x += 5  | x = x + 5  |\n",
    "| -=     | x -= 5  | x = x - 5  |\n",
    "| *=     | x *= 5  | x = x * 5  |\n",
    "| /=     | x /= 5  | x = x / 5  |\n",
    "| %=     | x %= 5  | x = x % 5  |\n",
    "| //=    | x //= 5 | x = x // 5 |\n",
    "| **=    | x **= 5 | x = x ** 5 |\n",
    "| &=     | x &= 5  | x = x & 5  |\n",
    "| \\|=    | x \\|= 5 | x = x \\| 5 |\n",
    "| ^=     | x ^= 5  | x = x ^ 5  |\n",
    "| >>=    | x >>= 5 | x = x >> 5 |\n",
    "| <<=    | x <<= 5 | x = x << 5 |"
   ]
  },
  {
   "cell_type": "markdown",
   "metadata": {},
   "source": [
    "### 算术运算符"
   ]
  },
  {
   "cell_type": "markdown",
   "metadata": {},
   "source": [
    "- 加法（+）：a + b\n",
    "- 减法（-）：a - b\n",
    "- 乘法（*）：a * b\n",
    "- 除法（/）：a / b\n",
    "- 取余（%）：a % b\n",
    "- 整除（//）：a // b\n",
    "- 指数（\\*\\*）：a \\*\\* b"
   ]
  },
  {
   "cell_type": "markdown",
   "metadata": {},
   "source": [
    "例子：整数"
   ]
  },
  {
   "cell_type": "code",
   "execution_count": 4,
   "metadata": {},
   "outputs": [
    {
     "name": "stdout",
     "output_type": "stream",
     "text": [
      "加法： 3\n",
      "减法： 1\n",
      "乘法： 2\n",
      "除法： 1.5\n",
      "整除： 1\n",
      "取余： 1\n",
      "指数： 9\n"
     ]
    }
   ],
   "source": [
    "# Python算术运算符\n",
    "# 整数\n",
    "\n",
    "print('加法：', 1 + 2)\n",
    "print('减法：', 2 - 1)\n",
    "print('乘法：', 2 * 1)\n",
    "print('除法：', 3 / 2)\n",
    "print('整除：', 3 // 2)\n",
    "print('取余：', 3 % 2)\n",
    "print('指数：', 3 ** 2)    # 3的平方，=3*3"
   ]
  },
  {
   "cell_type": "markdown",
   "metadata": {},
   "source": [
    "例子：浮点数"
   ]
  },
  {
   "cell_type": "code",
   "execution_count": 5,
   "metadata": {},
   "outputs": [
    {
     "name": "stdout",
     "output_type": "stream",
     "text": [
      "pi 值： 3.14\n"
     ]
    }
   ],
   "source": [
    "# 浮点型数据\n",
    "\n",
    "print('pi 值：', 3.14)"
   ]
  },
  {
   "cell_type": "markdown",
   "metadata": {},
   "source": [
    "例子：复数"
   ]
  },
  {
   "cell_type": "code",
   "execution_count": 7,
   "metadata": {},
   "outputs": [
    {
     "name": "stdout",
     "output_type": "stream",
     "text": [
      "复数： (1+1j)\n",
      "复数乘法： (2+0j)\n"
     ]
    }
   ],
   "source": [
    "# 复数\n",
    "\n",
    "print('复数：', 1+1j)\n",
    "print('复数乘法：', (1+1j)*(1-1j))"
   ]
  },
  {
   "cell_type": "markdown",
   "metadata": {},
   "source": [
    "现在来声明一些变量并给变量赋值。我这里使用了一些单字符来声明，实际开发中不能这么使用，我们一定要使用好记的变量名。\n",
    "\n",
    "例子："
   ]
  },
  {
   "cell_type": "code",
   "execution_count": 9,
   "metadata": {},
   "outputs": [
    {
     "name": "stdout",
     "output_type": "stream",
     "text": [
      "5\n",
      "a + b =  5\n",
      "a - b =  1\n",
      "a * b =  6\n",
      "a / b =  1.5\n",
      "a % b =  1\n",
      "a // b =  1\n",
      "a ** b =  9\n"
     ]
    }
   ],
   "source": [
    "# 在开头进行变量声明\n",
    "\n",
    "a = 3    # 有个变量叫a，赋值了一个数值型数据3\n",
    "b = 2    # 变量b赋值了整数2\n",
    "\n",
    "# 将变量计算后的结果赋值给新的变量\n",
    "total = a + b\n",
    "diff = a - b\n",
    "product = a * b\n",
    "division = a / b\n",
    "remainder = a % b\n",
    "floor_division = a // b\n",
    "exponential = a ** b\n",
    "\n",
    "# 上面的total变量本改使用sum单词，但是sum是Python内建函数，应该避免和它冲突\n",
    "print(total) # 直接打印结果有可能不记得这个值是怎么来的，所以一般会拼接一些辅助字符，像下面这些\n",
    "print('a + b = ', total)\n",
    "print('a - b = ', diff)\n",
    "print('a * b = ', product)\n",
    "print('a / b = ', division)\n",
    "print('a % b = ', remainder)\n",
    "print('a // b = ', floor_division)\n",
    "print('a ** b = ', exponential)"
   ]
  },
  {
   "cell_type": "markdown",
   "metadata": {},
   "source": [
    "例子："
   ]
  },
  {
   "cell_type": "code",
   "execution_count": 10,
   "metadata": {},
   "outputs": [
    {
     "name": "stdout",
     "output_type": "stream",
     "text": [
      "== 算术运算 ==\n",
      "total:  7\n",
      "difference:  1\n",
      "product:  12\n",
      "division:  1.3333333333333333\n",
      "remainder:  1\n"
     ]
    }
   ],
   "source": [
    "print('== 算术运算 ==')\n",
    "\n",
    "# Declaring values and organizing them together\n",
    "num_one = 3\n",
    "num_two = 4\n",
    "\n",
    "# Arithmetic operations\n",
    "total = num_one + num_two\n",
    "diff = num_two - num_one\n",
    "product = num_one * num_two\n",
    "div = num_two / num_one\n",
    "remainder = num_two % num_one\n",
    "\n",
    "# Printing values with label\n",
    "print('total: ', total)\n",
    "print('difference: ', diff)\n",
    "print('product: ', product)\n",
    "print('division: ', div)\n",
    "print('remainder: ', remainder)"
   ]
  },
  {
   "cell_type": "markdown",
   "metadata": {},
   "source": [
    "我们开始使用已经学会的这些知识，进行一些简单的计算。\n",
    "\n",
    "例子："
   ]
  },
  {
   "cell_type": "code",
   "execution_count": 11,
   "metadata": {},
   "outputs": [
    {
     "name": "stdout",
     "output_type": "stream",
     "text": [
      "Area of a circle: 314.0\n",
      "Area of rectangle: 200\n",
      "735.75 N\n"
     ]
    }
   ],
   "source": [
    "# 计算圆的面积\n",
    "radius = 10                                 # 圆的半径\n",
    "area_of_circle = 3.14 * radius ** 2         # 两个*代表指数运算\n",
    "print('Area of a circle:', area_of_circle)\n",
    "\n",
    "# 计算矩形面积\n",
    "length = 10\n",
    "width = 20\n",
    "area_of_rectangle = length * width\n",
    "print('Area of rectangle:', area_of_rectangle)\n",
    "\n",
    "# 计算物体重力\n",
    "mass = 75\n",
    "gravity = 9.81\n",
    "weight = mass * gravity\n",
    "print(weight, 'N')                         # 给打印的重力加一个单位"
   ]
  },
  {
   "cell_type": "markdown",
   "metadata": {},
   "source": [
    "### 比较运算符"
   ]
  },
  {
   "cell_type": "markdown",
   "metadata": {},
   "source": [
    "在Python中比较两个数值的大小通常会使用比较运算符，下表展示了Python中拥有的比较运算符和使用例子。\n",
    "\n",
    "| 操作符 | 名称     | 例子   |\n",
    "| ------ | -------- | ------ |\n",
    "| ==     | 等于     | x == y |\n",
    "| !=     | 不等于   | x != y |\n",
    "| >      | 大于     | x > y  |\n",
    "| <      | 小于     | x < y  |\n",
    "| >=     | 大于等于 | x >= y |\n",
    "| <=     | 小于等于 | x <= y |"
   ]
  },
  {
   "cell_type": "markdown",
   "metadata": {},
   "source": [
    "关于比较运算符的一些例子：动手试一试"
   ]
  },
  {
   "cell_type": "code",
   "execution_count": 12,
   "metadata": {},
   "outputs": [
    {
     "name": "stdout",
     "output_type": "stream",
     "text": [
      "True\n",
      "True\n",
      "False\n",
      "True\n",
      "True\n",
      "False\n",
      "True\n",
      "False\n",
      "True\n",
      "True\n",
      "False\n",
      "True\n",
      "True\n",
      "False\n",
      "True == True:  True\n",
      "True == False:  False\n",
      "False == False: True\n",
      "True and True:  True\n",
      "True or False: True\n"
     ]
    }
   ],
   "source": [
    "print(3 > 2)     # True, because 3 is greater than 2\n",
    "print(3 >= 2)    # True, because 3 is greater than 2\n",
    "print(3 < 2)     # False,  because 3 is greater than 2\n",
    "print(2 < 3)     # True, because 2 is less than 3\n",
    "print(2 <= 3)    # True, because 2 is less than 3\n",
    "print(3 == 2)    # False, because 3 is not equal to 2\n",
    "print(3 != 2)    # True, because 3 is not equal to 2\n",
    "print(len('mango') == len('avocado'))  # False\n",
    "print(len('mango') != len('avocado'))  # True\n",
    "print(len('mango') < len('avocado'))   # True\n",
    "print(len('milk') != len('meat'))      # False\n",
    "print(len('milk') == len('meat'))      # True\n",
    "print(len('tomato') == len('potato'))  # True\n",
    "print(len('python') > len('dragon'))   # False\n",
    "\n",
    "\n",
    "# Comparing something gives either a True or False\n",
    "\n",
    "print('True == True: ', True == True)\n",
    "print('True == False: ', True == False)\n",
    "print('False == False:', False == False)\n",
    "print('True and True: ', True and True)\n",
    "print('True or False:', True or False)"
   ]
  },
  {
   "cell_type": "markdown",
   "metadata": {},
   "source": [
    "Python中还有几个特殊的比较运算符：\n",
    "\n",
    "- is：当两个变量值相同时返回True（x is y）\n",
    "- is not：当两个变量值不相同时返回True（x is not y）\n",
    "- in：判断两个变量的包含关系，如果a是b的子集，返回True（a in b）\n",
    "- not in：判断两个变量的包含关系，如果a不是b的子集，返回True（a not in b）"
   ]
  },
  {
   "cell_type": "code",
   "execution_count": 14,
   "metadata": {},
   "outputs": [
    {
     "name": "stdout",
     "output_type": "stream",
     "text": [
      "1 is 1 True\n",
      "1 is not 2 True\n",
      "A in Asabeneh True\n",
      "B in Asabeneh False\n",
      "True\n",
      "a in an: True\n",
      "4 is 2 ** 2: True\n"
     ]
    },
    {
     "name": "stderr",
     "output_type": "stream",
     "text": [
      "<>:1: SyntaxWarning: \"is\" with a literal. Did you mean \"==\"?\n",
      "<>:2: SyntaxWarning: \"is not\" with a literal. Did you mean \"!=\"?\n",
      "<>:7: SyntaxWarning: \"is\" with a literal. Did you mean \"==\"?\n",
      "<>:1: SyntaxWarning: \"is\" with a literal. Did you mean \"==\"?\n",
      "<>:2: SyntaxWarning: \"is not\" with a literal. Did you mean \"!=\"?\n",
      "<>:7: SyntaxWarning: \"is\" with a literal. Did you mean \"==\"?\n",
      "<ipython-input-14-d366a6e355a0>:1: SyntaxWarning: \"is\" with a literal. Did you mean \"==\"?\n",
      "  print('1 is 1', 1 is 1)                   # 返回True - 因为这俩值是一样的\n",
      "<ipython-input-14-d366a6e355a0>:2: SyntaxWarning: \"is not\" with a literal. Did you mean \"!=\"?\n",
      "  print('1 is not 2', 1 is not 2)           # True -\n",
      "<ipython-input-14-d366a6e355a0>:7: SyntaxWarning: \"is\" with a literal. Did you mean \"==\"?\n",
      "  print('4 is 2 ** 2:', 4 is 2 ** 2)   # True\n"
     ]
    }
   ],
   "source": [
    "print('1 is 1', 1 is 1)                   # 返回True - 因为这俩值是一样的\n",
    "print('1 is not 2', 1 is not 2)           # True - \n",
    "print('A in Asabeneh', 'A' in 'Asabeneh') # True - 因为字符串中有A\n",
    "print('B in Asabeneh', 'B' in 'Asabeneh') # False - 因为字符串中没有B\n",
    "print('coding' in 'coding for all') # True - 因为coding for all中有单词coding\n",
    "print('a in an:', 'a' in 'an')      # True\n",
    "print('4 is 2 ** 2:', 4 is 2 ** 2)   # True"
   ]
  },
  {
   "cell_type": "markdown",
   "metadata": {},
   "source": [
    "### 逻辑运算符"
   ]
  },
  {
   "cell_type": "markdown",
   "metadata": {},
   "source": [
    "Python中使用关键词**and**、**or**、**not**来作为逻辑运算符。逻辑运算符一般用来组合多个条件语句。\n",
    "\n",
    "| 操作符 | 解释                                                       | 例子                  |\n",
    "| ------ | ---------------------------------------------------------- | --------------------- |\n",
    "| and    | **与**运算，当所有条件都为True时，返回True，否则返回False  | x < 5 and x < 10      |\n",
    "| or     | **或**运算，当所有条件都为False时，返回False，否则返回True | x < 5 or x < 4        |\n",
    "| not    | **非**运算，反转条件的结果                                 | not(x < 5 and x < 10) |"
   ]
  },
  {
   "cell_type": "markdown",
   "metadata": {},
   "source": [
    "试一试"
   ]
  },
  {
   "cell_type": "code",
   "execution_count": 15,
   "metadata": {},
   "outputs": [
    {
     "name": "stdout",
     "output_type": "stream",
     "text": [
      "True\n",
      "False\n",
      "False\n",
      "True\n",
      "True\n",
      "False\n",
      "False\n",
      "False\n",
      "True\n",
      "True\n",
      "False\n"
     ]
    }
   ],
   "source": [
    "print(3 > 2 and 4 > 3) # True - 因为两个条件都是True\n",
    "print(3 > 2 and 4 < 3) # False - 因为第二个条件为False\n",
    "print(3 < 2 and 4 < 3) # False - 两个条件都为False\n",
    "print(3 > 2 or 4 > 3)  # True - 两个条件都是True\n",
    "print(3 > 2 or 4 < 3)  # True - 有一个条件是True\n",
    "print(3 < 2 or 4 < 3)  # False - 两个条件都是False\n",
    "print(not 3 > 2)     # False - 因为 3 > 2 为 true, 然后 not True 即 False\n",
    "print(not True)      # False \n",
    "print(not False)     # True\n",
    "print(not not True)  # True\n",
    "print(not not False) # False"
   ]
  },
  {
   "cell_type": "markdown",
   "metadata": {},
   "source": [
    "## 练习"
   ]
  },
  {
   "cell_type": "markdown",
   "metadata": {},
   "source": [
    "1. 声明你的年龄（age）为整型变量\n",
    "\n",
    "2. 声明你的身高（height）为浮点型变量\n",
    "\n",
    "3. 声明一个复数变量\n",
    "\n",
    "4. 编写一段代码，运行后可以分别键盘输入一个矩形的长和宽，然后计算矩形的面积，过程如下：\n",
    "\n",
    "   ```python\n",
    "   Enter base: 20\t\t# 先输入一个值\n",
    "   Enter height: 10  # 再输入一个值\n",
    "   The area of the triangle is 100   # 计算乘积\n",
    "   ```\n",
    "\n",
    "   \n",
    "\n",
    "5. 编写一段代码，键盘输入得到矩形的长和宽，计算矩形的面积和周长\n",
    "\n",
    "6. 编写一段代码，键盘输入得到圆的半径，计算圆的面积和周长\n",
    "\n",
    "7. 尝试计算y值(y = x^2 + 6x + 9)，尝试不同的x来输出y，并找出使y等于0的x值\n",
    "\n",
    "8. 计算`‘python’`和`‘jargon’`的长度，并比较两个值，看结果为True还是False\n",
    "\n",
    "9. 尝试比较一下`‘10’`和10的值是否相同\n",
    "\n",
    "10. 编写一段代码，使运行后打印如下数列\n",
    "\n",
    "    ```python\n",
    "    1 1 1 1 1\n",
    "    2 1 2 4 8\n",
    "    3 1 3 9 27\n",
    "    4 1 4 16 64\n",
    "    5 1 5 25 125\n",
    "    ```"
   ]
  }
 ],
 "metadata": {
  "kernelspec": {
   "display_name": "courses",
   "language": "python",
   "name": "courses"
  },
  "language_info": {
   "codemirror_mode": {
    "name": "ipython",
    "version": 3
   },
   "file_extension": ".py",
   "mimetype": "text/x-python",
   "name": "python",
   "nbconvert_exporter": "python",
   "pygments_lexer": "ipython3",
   "version": "3.8.8"
  }
 },
 "nbformat": 4,
 "nbformat_minor": 4
}
